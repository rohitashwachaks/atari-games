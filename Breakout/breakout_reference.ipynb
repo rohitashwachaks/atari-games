{
 "cells": [
  {
   "cell_type": "code",
   "execution_count": 1,
   "metadata": {
    "id": "zmU8Ta4BfBux"
   },
   "outputs": [],
   "source": [
    "import numpy as np\n",
    "import gym\n",
    "import tensorflow as tf\n",
    "import time\n",
    "from tensorflow.keras.models import Model\n",
    "from tensorflow.keras.layers import Dense, Flatten, LeakyReLU, Input, Conv2D, MaxPool2D, Concatenate\n",
    "import matplotlib.pyplot as plt\n",
    "from tqdm import tqdm\n",
    "%matplotlib inline\n",
    "\n",
    "tf.compat.v1.logging.set_verbosity(tf.compat.v1.logging.ERROR) # stop displaying warnings that mean nothing!!!\n",
    "\n",
    "PATH = './'"
   ]
  },
  {
   "cell_type": "markdown",
   "id": "JlkLeaQn9EOd",
   "metadata": {
    "id": "JlkLeaQn9EOd"
   },
   "source": [
    "#### Initialising Tensorboard"
   ]
  },
  {
   "cell_type": "code",
   "execution_count": 2,
   "id": "001f080c",
   "metadata": {
    "id": "001f080c"
   },
   "outputs": [],
   "source": [
    "# %load_ext tensorboard\n",
    "# %tensorboard --logdir logs/fit\n",
    "# # %tensorboard --logdir=data/ --host localhost --port 8888"
   ]
  },
  {
   "cell_type": "markdown",
   "id": "39e73fe3",
   "metadata": {
    "id": "39e73fe3"
   },
   "source": [
    "## Run on Google Colab"
   ]
  },
  {
   "cell_type": "code",
   "execution_count": 3,
   "id": "c73783bc",
   "metadata": {
    "id": "c73783bc"
   },
   "outputs": [],
   "source": [
    "# PATH = 'drive/MyDrive/MS/Opti/breakout/'"
   ]
  },
  {
   "cell_type": "code",
   "execution_count": 4,
   "id": "Al9wQxGp9bU_",
   "metadata": {
    "colab": {
     "base_uri": "https://localhost:8080/"
    },
    "id": "Al9wQxGp9bU_",
    "outputId": "f2101f62-6b29-4317-aed6-dab66ccbc65b"
   },
   "outputs": [],
   "source": [
    "# from google.colab import drive\n",
    "# drive.mount('/content/drive')"
   ]
  },
  {
   "cell_type": "code",
   "execution_count": 5,
   "id": "DBRDOHnJ7BMG",
   "metadata": {
    "colab": {
     "base_uri": "https://localhost:8080/"
    },
    "id": "DBRDOHnJ7BMG",
    "outputId": "cf2a355b-a6a0-4f20-86ac-29d6d2e91b2e"
   },
   "outputs": [],
   "source": [
    "# !python -m atari_py.import_roms /content/drive/MyDrive/MS/Opti/Roms/"
   ]
  },
  {
   "cell_type": "markdown",
   "id": "0eLBkp4H9KRK",
   "metadata": {
    "id": "0eLBkp4H9KRK"
   },
   "source": [
    "## Initialising Environment"
   ]
  },
  {
   "cell_type": "markdown",
   "id": "UVLI6n9c-6R_",
   "metadata": {
    "id": "UVLI6n9c-6R_"
   },
   "source": [
    "#### Pre-Processing Environment"
   ]
  },
  {
   "cell_type": "code",
   "execution_count": 6,
   "metadata": {
    "id": "faRlc95JfhoW"
   },
   "outputs": [],
   "source": [
    "def prepro(I):\n",
    "    # preprocess each frame for learning\n",
    "    # save some memory and computation\n",
    "    # pre-process the image from a 210x160x3 uint8 frame into an (80x80) float array \n",
    "    I = I[::2,::2,0].copy()  \n",
    "    I = I[47:-9,4:-5]\n",
    "    I[I != 0] = 1 # everything else (paddles, ball) just set to 1\n",
    "    return np.array(I)\n",
    "\n",
    "def segment_env(I):\n",
    "    I = prepro(I).copy()\n",
    "    I_paddle = I[-1:,:]\n",
    "\n",
    "    ball_miss = 1\n",
    "    for i in range(1,I_paddle.shape[1]):\n",
    "        if I_paddle[-1,i] == 0 and I_paddle[-1,i-1] == 1:\n",
    "            ball_miss -= 1\n",
    "    \n",
    "    paddle_pos = np.mean(np.where(I_paddle == 1), axis = 1)\n",
    "    paddle_pos[0] = I.shape[0]\n",
    "    # print('Paddle',paddle_pos)\n",
    "    \n",
    "    I_ball = I[:-1,:]\n",
    "\n",
    "    ball_pos = np.mean(np.where(I_ball == 1), axis = 1)\n",
    "    ball_pos = np.nan_to_num(ball_pos, nan=0)\n",
    "    \n",
    "    delta = paddle_pos - ball_pos\n",
    "    # print('Delta',delta)\n",
    "\n",
    "    if (np.abs(delta[0]) <= 4) and (np.abs(delta[1]) <= 3):\n",
    "        ball_miss = 5 # paddle hits the ball\n",
    "    # print(delta)\n",
    "\n",
    "    return I, delta, ball_miss"
   ]
  },
  {
   "cell_type": "code",
   "execution_count": 7,
   "metadata": {},
   "outputs": [],
   "source": [
    "\n",
    "def plot_environment(I):\n",
    "    fig, ax = plt.subplots(1, 2, figsize=(10, 10), sharex= False, sharey= False)\n",
    "    ax[0].imshow(I)\n",
    "\n",
    "    prep_im, _, _ = segment_env(I)\n",
    "    ax[1].imshow(prep_im, cmap='gray')\n",
    "    plt.show()"
   ]
  },
  {
   "cell_type": "markdown",
   "id": "4QSjxjST-_ka",
   "metadata": {
    "id": "4QSjxjST-_ka"
   },
   "source": [
    "#### Initialising Environment Variables"
   ]
  },
  {
   "cell_type": "code",
   "execution_count": 8,
   "id": "dba62112",
   "metadata": {
    "id": "dba62112"
   },
   "outputs": [
    {
     "name": "stdout",
     "output_type": "stream",
     "text": [
      "Miss [49.         49.55555556]\n"
     ]
    },
    {
     "name": "stderr",
     "output_type": "stream",
     "text": [
      "/Users/rchaks/opt/miniforge3/envs/m1_tf/lib/python3.9/site-packages/numpy/core/fromnumeric.py:3440: RuntimeWarning: Mean of empty slice.\n",
      "  return _methods._mean(a, axis=axis, dtype=dtype,\n",
      "/Users/rchaks/opt/miniforge3/envs/m1_tf/lib/python3.9/site-packages/numpy/core/_methods.py:181: RuntimeWarning: invalid value encountered in true_divide\n",
      "  ret = um.true_divide(\n"
     ]
    },
    {
     "data": {
      "image/png": "[encoded data removed]",
      "text/plain": [
       "<Figure size 720x720 with 2 Axes>"
      ]
     },
     "metadata": {
      "needs_background": "light"
     },
     "output_type": "display_data"
    },
    {
     "name": "stdout",
     "output_type": "stream",
     "text": [
      "Hit [3.5 2. ]\n"
     ]
    },
    {
     "data": {
      "image/png": "[encoded data removed]",
      "text/plain": [
       "<Figure size 720x720 with 2 Axes>"
      ]
     },
     "metadata": {
      "needs_background": "light"
     },
     "output_type": "display_data"
    },
    {
     "name": "stdout",
     "output_type": "stream",
     "text": [
      "Hit [3.5 2. ]\n"
     ]
    },
    {
     "data": {
      "image/png": "[encoded data removed]",
      "text/plain": [
       "<Figure size 720x720 with 2 Axes>"
      ]
     },
     "metadata": {
      "needs_background": "light"
     },
     "output_type": "display_data"
    },
    {
     "name": "stdout",
     "output_type": "stream",
     "text": [
      "(49, 71)\n"
     ]
    },
    {
     "data": {
      "image/png": "[encoded data removed]",
      "text/plain": [
       "<Figure size 720x720 with 2 Axes>"
      ]
     },
     "metadata": {
      "needs_background": "light"
     },
     "output_type": "display_data"
    },
    {
     "name": "stdout",
     "output_type": "stream",
     "text": [
      "['NOOP', 'FIRE', 'RIGHT', 'LEFT']\n"
     ]
    }
   ],
   "source": [
    "frames_to_net = 1\n",
    "frames_this_game = 0\n",
    "\n",
    "env = gym.make(\"BreakoutDeterministic-v0\")\n",
    "\n",
    "pix = env.reset()\n",
    "for i in range(200):\n",
    "    pix, reward, done, info = env.step(env.action_space.sample()) # take a random action\n",
    "    # env.render()\n",
    "    # time.sleep(0.01)\n",
    "    rew = segment_env(pix)\n",
    "    if  rew[2] < 0:\n",
    "        print('Miss',rew[1])\n",
    "        plot_environment(pix)\n",
    "    if rew[2] == 5:\n",
    "        print('Hit',rew[1])\n",
    "        plot_environment(pix)\n",
    "\n",
    "board_dimensions = segment_env(pix)[0].shape\n",
    "\n",
    "env.reset()\n",
    "env.close()\n",
    "\n",
    "print(board_dimensions)\n",
    "\n",
    "plot_environment(pix)\n",
    "\n",
    "action_space = env.action_space.n\n",
    "print(env.unwrapped.get_action_meanings())\n",
    "del env"
   ]
  },
  {
   "cell_type": "markdown",
   "id": "3abc1325",
   "metadata": {
    "id": "3abc1325"
   },
   "source": [
    "## Policy Gradient with linear annealing, memory buffer, and same action for 4 consecutive frames"
   ]
  },
  {
   "cell_type": "code",
   "execution_count": 9,
   "id": "7dcb1d2f",
   "metadata": {
    "id": "7dcb1d2f"
   },
   "outputs": [],
   "source": [
    "def discount_rewards(r):\n",
    "    delt = 0.99 # discount factor\n",
    "    nr = len(r)\n",
    "    # we want to change all those zeros into discounted values of the next reward (this is the value function!)\n",
    "    discounted_r = [0.0]*nr\n",
    "    \n",
    "    for t in range(nr):\n",
    "        # start at the end\n",
    "        if r[nr-t-1] > 0: # if you won a point in this frame we want a good reward\n",
    "            discounted_r[nr-t-1] = r[nr-t-1]\n",
    "        elif r[nr-t-1] < 0: # if we lost the point we want a bad reward\n",
    "            discounted_r[nr-t-1] = -1\n",
    "        elif t==0: # this is just for error catching...at t==0 r[nr-t-1] should have already been + or -...\n",
    "            discounted_r[nr-t-1] = 0\n",
    "        elif discounted_r[nr-t-1] == 0: # otherwise you want to look at the next reward value and discount it\n",
    "            discounted_r[nr-t-1] = delt*discounted_r[nr-t]\n",
    "    return discounted_r"
   ]
  },
  {
   "cell_type": "code",
   "execution_count": 10,
   "id": "5bcc648e",
   "metadata": {
    "id": "5bcc648e"
   },
   "outputs": [],
   "source": [
    "frames_to_net = 4              # how many previous frames will we feed the NN\n",
    "possible_actions = [x for x in range(5)] # the possible actions we can take"
   ]
  },
  {
   "cell_type": "markdown",
   "id": "8948100c",
   "metadata": {
    "id": "8948100c"
   },
   "source": [
    "## Play a game"
   ]
  },
  {
   "cell_type": "code",
   "execution_count": 26,
   "id": "SMGNzXq87ukS",
   "metadata": {
    "id": "SMGNzXq87ukS"
   },
   "outputs": [],
   "source": [
    "def play1game(model, ep = 0, render=False, slow= 0.01):\n",
    "    env0 = gym.make(\"BreakoutDeterministic-v0\")\n",
    "    pix = env0.reset()\n",
    "    pix, delta, ball_miss = segment_env(pix)\n",
    "\n",
    "    dimensions = pix.shape\n",
    "\n",
    "    action_space = env0.unwrapped.action_space.n\n",
    "    \n",
    "    frames_this_game = 0\n",
    "    feed = np.zeros((1, dimensions[0], dimensions[1],frames_to_net))\n",
    "    feed[0,:,:,0] = pix.copy()\n",
    "    \n",
    "    delta_feed = np.zeros((1,1,2, frames_to_net))\n",
    "    delta_feed[0,:,:,0] = delta.copy()\n",
    "    \n",
    "    \n",
    "    frame_array = []\n",
    "    delta_array = []\n",
    "    action_array = []\n",
    "    reward_array = []\n",
    "    \n",
    "    score = 0\n",
    "    action = 0\n",
    "    done = False\n",
    "    # try:\n",
    "    while not done:\n",
    "        if render == True: # do you actually want to visualize the playing?\n",
    "            env0.render()\n",
    "            time.sleep(slow)\n",
    "        \n",
    "        # skipping every 4 frames\n",
    "        if frames_this_game%4 == 0:\n",
    "            # epsilon-greedy\n",
    "            if np.random.random() < ep:\n",
    "                action = np.random.choice(action_space + 2)\n",
    "            else:\n",
    "                # vf = model(delta_feed, training=False).numpy()[0]\n",
    "                vf = model([feed, delta_feed ],training=False).numpy()[0]\n",
    "                action = np.random.choice(action_space,p=vf) + 2 # add 2 to the action to get the correct action\n",
    "\n",
    "        if np.sum(pix[:-1,:]) == 0:\n",
    "            action = 1 # Fire\n",
    "        pix_new, reward, done, info = env0.step(action)\n",
    "        pix, delta, ball_miss = segment_env(pix_new)\n",
    "\n",
    "        if ball_miss < 0:\n",
    "            reward = -1\n",
    "        elif ball_miss == 5:\n",
    "            reward = 1\n",
    "\n",
    "        frame_array.append(pix)\n",
    "        action_array.append(action)\n",
    "        reward_array.append(reward)\n",
    "        delta_array.append(delta)\n",
    "        frames_this_game += 1\n",
    "\n",
    "        for f in range(1,frames_to_net):\n",
    "            feed[0,:,:,frames_to_net-f] = feed[0,:,:,frames_to_net-f-1].copy()\n",
    "        feed[0,:,:,0] = pix.copy()\n",
    "        score += reward\n",
    "\n",
    "        if frames_this_game > 50000:#5000000:\n",
    "            print(\"Game is taking too long, breaking\")\n",
    "            done = True\n",
    "            break\n",
    "    \n",
    "    # except Exception as e:\n",
    "    #     print(e)\n",
    "    # except KeyboardInterrupt:\n",
    "    #     print('KeyboardInterrupt')\n",
    "    # finally:\n",
    "    env0.reset()\n",
    "    env0.close()\n",
    "        \n",
    "    return frame_array, delta_array, action_array, reward_array, score"
   ]
  },
  {
   "cell_type": "markdown",
   "id": "d9099c3c",
   "metadata": {
    "id": "d9099c3c"
   },
   "source": [
    "## Creating CNN"
   ]
  },
  {
   "cell_type": "markdown",
   "id": "nC1Uugug-TEK",
   "metadata": {
    "id": "nC1Uugug-TEK"
   },
   "source": [
    "#### Define a Neural Network"
   ]
  },
  {
   "cell_type": "code",
   "execution_count": 27,
   "id": "B1SKNa6ID16u",
   "metadata": {
    "id": "B1SKNa6ID16u"
   },
   "outputs": [],
   "source": [
    "def create_model(height,width,channels, action_space):\n",
    "    imp = Input(shape=(height,width,channels))\n",
    "    mid = Conv2D(32,(2,2),strides=4,activation='relu')(imp)\n",
    "    mid = MaxPool2D(pool_size = (2,2))(mid)\n",
    "    \n",
    "    mid = Conv2D(64,(2,2),strides=2,activation='relu')(mid)\n",
    "    mid = MaxPool2D(pool_size = (2,2))(mid)\n",
    "    mid = Flatten()(mid)\n",
    "\n",
    "    numeric_imp = Input(shape=(1, 2,channels))\n",
    "    numeric_mid = Dense(2,activation='relu')(numeric_imp)\n",
    "    numeric_mid = LeakyReLU(alpha=0.01)(numeric_mid)\n",
    "    numeric_mid = Flatten()(numeric_mid)\n",
    "\n",
    "    mid = Concatenate()([mid,numeric_mid])\n",
    "    \n",
    "    mid = Dense(4,activation='relu')(mid)\n",
    "    mid = LeakyReLU(alpha=0.01)(mid)\n",
    "    out0 = Dense(action_space,activation='softmax', name = 'output')(mid)\n",
    "    model = Model([imp, numeric_imp],out0) \n",
    "    \n",
    "    model.compile(optimizer=tf.keras.optimizers.Adam(learning_rate=1e-6),loss='sparse_categorical_crossentropy')\n",
    "    \n",
    "    return model"
   ]
  },
  {
   "cell_type": "code",
   "execution_count": 28,
   "id": "II1Eh2lTE0O-",
   "metadata": {
    "id": "II1Eh2lTE0O-"
   },
   "outputs": [
    {
     "name": "stdout",
     "output_type": "stream",
     "text": [
      "Model: \"model_2\"\n",
      "__________________________________________________________________________________________________\n",
      " Layer (type)                   Output Shape         Param #     Connected to                     \n",
      "==================================================================================================\n",
      " input_5 (InputLayer)           [(None, 49, 71, 4)]  0           []                               \n",
      "                                                                                                  \n",
      " conv2d_4 (Conv2D)              (None, 12, 18, 32)   544         ['input_5[0][0]']                \n",
      "                                                                                                  \n",
      " max_pooling2d_4 (MaxPooling2D)  (None, 6, 9, 32)    0           ['conv2d_4[0][0]']               \n",
      "                                                                                                  \n",
      " input_6 (InputLayer)           [(None, 1, 2, 4)]    0           []                               \n",
      "                                                                                                  \n",
      " conv2d_5 (Conv2D)              (None, 3, 4, 64)     8256        ['max_pooling2d_4[0][0]']        \n",
      "                                                                                                  \n",
      " dense_4 (Dense)                (None, 1, 2, 2)      10          ['input_6[0][0]']                \n",
      "                                                                                                  \n",
      " max_pooling2d_5 (MaxPooling2D)  (None, 1, 2, 64)    0           ['conv2d_5[0][0]']               \n",
      "                                                                                                  \n",
      " leaky_re_lu_4 (LeakyReLU)      (None, 1, 2, 2)      0           ['dense_4[0][0]']                \n",
      "                                                                                                  \n",
      " flatten_4 (Flatten)            (None, 128)          0           ['max_pooling2d_5[0][0]']        \n",
      "                                                                                                  \n",
      " flatten_5 (Flatten)            (None, 4)            0           ['leaky_re_lu_4[0][0]']          \n",
      "                                                                                                  \n",
      " concatenate_2 (Concatenate)    (None, 132)          0           ['flatten_4[0][0]',              \n",
      "                                                                  'flatten_5[0][0]']              \n",
      "                                                                                                  \n",
      " dense_5 (Dense)                (None, 4)            532         ['concatenate_2[0][0]']          \n",
      "                                                                                                  \n",
      " leaky_re_lu_5 (LeakyReLU)      (None, 4)            0           ['dense_5[0][0]']                \n",
      "                                                                                                  \n",
      " output (Dense)                 (None, 2)            10          ['leaky_re_lu_5[0][0]']          \n",
      "                                                                                                  \n",
      "==================================================================================================\n",
      "Total params: 9,352\n",
      "Trainable params: 9,352\n",
      "Non-trainable params: 0\n",
      "__________________________________________________________________________________________________\n"
     ]
    },
    {
     "data": {
      "image/png": "[encoded data removed]",
      "text/plain": [
       "<IPython.core.display.Image object>"
      ]
     },
     "execution_count": 28,
     "metadata": {},
     "output_type": "execute_result"
    }
   ],
   "source": [
    "mod = create_model(\n",
    "                height = board_dimensions[0],\n",
    "                width = board_dimensions[1],\n",
    "                channels = frames_to_net, \n",
    "                action_space = action_space -2 # the -2 is because we don't want to fire or No-Op\n",
    "            )\n",
    "mod.call = tf.function(mod.call,experimental_relax_shapes=True)\n",
    "\n",
    "mod.summary()\n",
    "\n",
    "tf.keras.utils.plot_model(mod)"
   ]
  },
  {
   "cell_type": "markdown",
   "id": "CfxvhmwT-En7",
   "metadata": {
    "id": "CfxvhmwT-En7"
   },
   "source": [
    "#### Load pre-trained model from file"
   ]
  },
  {
   "cell_type": "code",
   "execution_count": 29,
   "id": "vNZGsBt6FI0L",
   "metadata": {
    "id": "vNZGsBt6FI0L"
   },
   "outputs": [],
   "source": [
    "model_name = 'breakout_deterministic_dump'"
   ]
  },
  {
   "cell_type": "code",
   "execution_count": 30,
   "id": "lZUd70WT_NiP",
   "metadata": {
    "colab": {
     "base_uri": "https://localhost:8080/"
    },
    "id": "lZUd70WT_NiP",
    "outputId": "3b6e4ffd-1e2a-498b-9735-0ff1af49fbfd"
   },
   "outputs": [],
   "source": [
    "# mod = tf.keras.models.load_model(PATH+f'weights/{model_name}.h5')\n",
    "# mod.call = tf.function(mod.call,experimental_relax_shapes=True)\n",
    "\n",
    "# mod.summary()\n",
    "\n",
    "# model_name = 'breakout_deterministic'"
   ]
  },
  {
   "cell_type": "markdown",
   "id": "AVSCgfmh93MJ",
   "metadata": {
    "id": "AVSCgfmh93MJ"
   },
   "source": [
    "## Training"
   ]
  },
  {
   "cell_type": "code",
   "execution_count": 31,
   "id": "c4a09d3d",
   "metadata": {
    "id": "c4a09d3d"
   },
   "outputs": [],
   "source": [
    "epsvec = np.linspace(1,0.05,500)\n",
    "tgames = 10 # training games\n",
    "ngames = 200 # games played after training\n",
    "nbatch = 10\n",
    "buffn = 200000\n",
    "warmupgames = 5\n",
    "len_buff = 0\n",
    "buffer = {'frames':[], 'deltas':[],'actions':[],'rewards':[]}"
   ]
  },
  {
   "cell_type": "code",
   "execution_count": 32,
   "id": "d84D_OT-Icu2",
   "metadata": {
    "id": "d84D_OT-Icu2"
   },
   "outputs": [],
   "source": [
    "game = 0\n",
    "scores = []"
   ]
  },
  {
   "cell_type": "code",
   "execution_count": 33,
   "id": "TUjBMfeEBD96",
   "metadata": {
    "colab": {
     "base_uri": "https://localhost:8080/"
    },
    "id": "TUjBMfeEBD96",
    "outputId": "5e4a0d84-5bf7-41fa-8f83-13b9b1473d4f"
   },
   "outputs": [
    {
     "name": "stderr",
     "output_type": "stream",
     "text": [
      " 60%|██████    | 6/10 [01:15<00:50, 12.57s/it]\n",
      "/Users/rchaks/opt/miniforge3/envs/m1_tf/lib/python3.9/site-packages/numpy/core/fromnumeric.py:3440: RuntimeWarning: Mean of empty slice.\n",
      "  return _methods._mean(a, axis=axis, dtype=dtype,\n",
      "/Users/rchaks/opt/miniforge3/envs/m1_tf/lib/python3.9/site-packages/numpy/core/_methods.py:181: RuntimeWarning: invalid value encountered in true_divide\n",
      "  ret = um.true_divide(\n"
     ]
    },
    {
     "ename": "IndexError",
     "evalue": "index 4 is out of bounds for axis 0 with size 4",
     "output_type": "error",
     "traceback": [
      "\u001b[0;31m---------------------------------------------------------------------------\u001b[0m",
      "\u001b[0;31mIndexError\u001b[0m                                Traceback (most recent call last)",
      "\u001b[1;32m/Users/rchaks/Code/GitHub/atari/Breakout/breakout_reference.ipynb Cell 29'\u001b[0m in \u001b[0;36m<cell line: 4>\u001b[0;34m()\u001b[0m\n\u001b[1;32m     <a href='vscode-notebook-cell:/Users/rchaks/Code/GitHub/atari/Breakout/breakout_reference.ipynb#ch0000067?line=9'>10</a>\u001b[0m g \u001b[39m=\u001b[39m \u001b[39mmin\u001b[39m(game, tgames\u001b[39m-\u001b[39m\u001b[39m1\u001b[39m)\n\u001b[1;32m     <a href='vscode-notebook-cell:/Users/rchaks/Code/GitHub/atari/Breakout/breakout_reference.ipynb#ch0000067?line=10'>11</a>\u001b[0m epsilon \u001b[39m=\u001b[39m epsvec[g] \u001b[39mif\u001b[39;00m g \u001b[39m<\u001b[39m \u001b[39m500\u001b[39m \u001b[39melse\u001b[39;00m \u001b[39m0\u001b[39m\n\u001b[0;32m---> <a href='vscode-notebook-cell:/Users/rchaks/Code/GitHub/atari/Breakout/breakout_reference.ipynb#ch0000067?line=11'>12</a>\u001b[0m frames, deltas, actions, rewards, score \u001b[39m=\u001b[39m play1game(mod, epsilon)\n\u001b[1;32m     <a href='vscode-notebook-cell:/Users/rchaks/Code/GitHub/atari/Breakout/breakout_reference.ipynb#ch0000067?line=13'>14</a>\u001b[0m rewards \u001b[39m=\u001b[39m discount_rewards(rewards\u001b[39m.\u001b[39mcopy())\n\u001b[1;32m     <a href='vscode-notebook-cell:/Users/rchaks/Code/GitHub/atari/Breakout/breakout_reference.ipynb#ch0000067?line=14'>15</a>\u001b[0m \u001b[39m# memory buffer\u001b[39;00m\n",
      "\u001b[1;32m/Users/rchaks/Code/GitHub/atari/Breakout/breakout_reference.ipynb Cell 18'\u001b[0m in \u001b[0;36mplay1game\u001b[0;34m(model, ep, render, slow)\u001b[0m\n\u001b[1;32m     <a href='vscode-notebook-cell:/Users/rchaks/Code/GitHub/atari/Breakout/breakout_reference.ipynb#ch0000056?line=41'>42</a>\u001b[0m \u001b[39mif\u001b[39;00m np\u001b[39m.\u001b[39msum(pix[:\u001b[39m-\u001b[39m\u001b[39m1\u001b[39m,:]) \u001b[39m==\u001b[39m \u001b[39m0\u001b[39m:\n\u001b[1;32m     <a href='vscode-notebook-cell:/Users/rchaks/Code/GitHub/atari/Breakout/breakout_reference.ipynb#ch0000056?line=42'>43</a>\u001b[0m     action \u001b[39m=\u001b[39m \u001b[39m1\u001b[39m \u001b[39m# Fire\u001b[39;00m\n\u001b[0;32m---> <a href='vscode-notebook-cell:/Users/rchaks/Code/GitHub/atari/Breakout/breakout_reference.ipynb#ch0000056?line=43'>44</a>\u001b[0m pix_new, reward, done, info \u001b[39m=\u001b[39m env0\u001b[39m.\u001b[39;49mstep(action)\n\u001b[1;32m     <a href='vscode-notebook-cell:/Users/rchaks/Code/GitHub/atari/Breakout/breakout_reference.ipynb#ch0000056?line=44'>45</a>\u001b[0m pix, delta, ball_miss \u001b[39m=\u001b[39m segment_env(pix_new)\n\u001b[1;32m     <a href='vscode-notebook-cell:/Users/rchaks/Code/GitHub/atari/Breakout/breakout_reference.ipynb#ch0000056?line=46'>47</a>\u001b[0m \u001b[39mif\u001b[39;00m ball_miss \u001b[39m<\u001b[39m \u001b[39m0\u001b[39m:\n",
      "File \u001b[0;32m~/opt/miniforge3/envs/m1_tf/lib/python3.9/site-packages/gym/wrappers/time_limit.py:18\u001b[0m, in \u001b[0;36mTimeLimit.step\u001b[0;34m(self, action)\u001b[0m\n\u001b[1;32m     <a href='file:///Users/rchaks/opt/miniforge3/envs/m1_tf/lib/python3.9/site-packages/gym/wrappers/time_limit.py?line=13'>14</a>\u001b[0m \u001b[39mdef\u001b[39;00m \u001b[39mstep\u001b[39m(\u001b[39mself\u001b[39m, action):\n\u001b[1;32m     <a href='file:///Users/rchaks/opt/miniforge3/envs/m1_tf/lib/python3.9/site-packages/gym/wrappers/time_limit.py?line=14'>15</a>\u001b[0m     \u001b[39massert\u001b[39;00m (\n\u001b[1;32m     <a href='file:///Users/rchaks/opt/miniforge3/envs/m1_tf/lib/python3.9/site-packages/gym/wrappers/time_limit.py?line=15'>16</a>\u001b[0m         \u001b[39mself\u001b[39m\u001b[39m.\u001b[39m_elapsed_steps \u001b[39mis\u001b[39;00m \u001b[39mnot\u001b[39;00m \u001b[39mNone\u001b[39;00m\n\u001b[1;32m     <a href='file:///Users/rchaks/opt/miniforge3/envs/m1_tf/lib/python3.9/site-packages/gym/wrappers/time_limit.py?line=16'>17</a>\u001b[0m     ), \u001b[39m\"\u001b[39m\u001b[39mCannot call env.step() before calling reset()\u001b[39m\u001b[39m\"\u001b[39m\n\u001b[0;32m---> <a href='file:///Users/rchaks/opt/miniforge3/envs/m1_tf/lib/python3.9/site-packages/gym/wrappers/time_limit.py?line=17'>18</a>\u001b[0m     observation, reward, done, info \u001b[39m=\u001b[39m \u001b[39mself\u001b[39;49m\u001b[39m.\u001b[39;49menv\u001b[39m.\u001b[39;49mstep(action)\n\u001b[1;32m     <a href='file:///Users/rchaks/opt/miniforge3/envs/m1_tf/lib/python3.9/site-packages/gym/wrappers/time_limit.py?line=18'>19</a>\u001b[0m     \u001b[39mself\u001b[39m\u001b[39m.\u001b[39m_elapsed_steps \u001b[39m+\u001b[39m\u001b[39m=\u001b[39m \u001b[39m1\u001b[39m\n\u001b[1;32m     <a href='file:///Users/rchaks/opt/miniforge3/envs/m1_tf/lib/python3.9/site-packages/gym/wrappers/time_limit.py?line=19'>20</a>\u001b[0m     \u001b[39mif\u001b[39;00m \u001b[39mself\u001b[39m\u001b[39m.\u001b[39m_elapsed_steps \u001b[39m>\u001b[39m\u001b[39m=\u001b[39m \u001b[39mself\u001b[39m\u001b[39m.\u001b[39m_max_episode_steps:\n",
      "File \u001b[0;32m~/opt/miniforge3/envs/m1_tf/lib/python3.9/site-packages/gym/envs/atari/atari_env.py:127\u001b[0m, in \u001b[0;36mAtariEnv.step\u001b[0;34m(self, a)\u001b[0m\n\u001b[1;32m    <a href='file:///Users/rchaks/opt/miniforge3/envs/m1_tf/lib/python3.9/site-packages/gym/envs/atari/atari_env.py?line=124'>125</a>\u001b[0m \u001b[39mdef\u001b[39;00m \u001b[39mstep\u001b[39m(\u001b[39mself\u001b[39m, a):\n\u001b[1;32m    <a href='file:///Users/rchaks/opt/miniforge3/envs/m1_tf/lib/python3.9/site-packages/gym/envs/atari/atari_env.py?line=125'>126</a>\u001b[0m     reward \u001b[39m=\u001b[39m \u001b[39m0.0\u001b[39m\n\u001b[0;32m--> <a href='file:///Users/rchaks/opt/miniforge3/envs/m1_tf/lib/python3.9/site-packages/gym/envs/atari/atari_env.py?line=126'>127</a>\u001b[0m     action \u001b[39m=\u001b[39m \u001b[39mself\u001b[39;49m\u001b[39m.\u001b[39;49m_action_set[a]\n\u001b[1;32m    <a href='file:///Users/rchaks/opt/miniforge3/envs/m1_tf/lib/python3.9/site-packages/gym/envs/atari/atari_env.py?line=128'>129</a>\u001b[0m     \u001b[39mif\u001b[39;00m \u001b[39misinstance\u001b[39m(\u001b[39mself\u001b[39m\u001b[39m.\u001b[39mframeskip, \u001b[39mint\u001b[39m):\n\u001b[1;32m    <a href='file:///Users/rchaks/opt/miniforge3/envs/m1_tf/lib/python3.9/site-packages/gym/envs/atari/atari_env.py?line=129'>130</a>\u001b[0m         num_steps \u001b[39m=\u001b[39m \u001b[39mself\u001b[39m\u001b[39m.\u001b[39mframeskip\n",
      "\u001b[0;31mIndexError\u001b[0m: index 4 is out of bounds for axis 0 with size 4"
     ]
    }
   ],
   "source": [
    "import sys\n",
    "pbar = tqdm(total=tgames)\n",
    "\n",
    "with open(PATH+f'scores_{model_name}.csv','a') as out_file:\n",
    "    out_file.write('game,score, train_time, len_buff, timestamp\\n')\n",
    "\n",
    "    while True:\n",
    "        pbar.update(1)\n",
    "        start = time.time()\n",
    "        g = min(game, tgames-1)\n",
    "        epsilon = epsvec[g] if g < 500 else 0\n",
    "        frames, deltas, actions, rewards, score = play1game(mod, epsilon)\n",
    "        \n",
    "        rewards = discount_rewards(rewards.copy())\n",
    "        # memory buffer\n",
    "        buffer['frames'] += frames.copy()\n",
    "        buffer['deltas'] += deltas.copy()\n",
    "        buffer['actions'] += actions.copy()\n",
    "        buffer['rewards'] += rewards.copy()\n",
    "        len_buff += len(actions)\n",
    "\n",
    "        if len_buff > buffn:\n",
    "            excess = len_buff - buffn\n",
    "            buffer['frames'] = buffer['frames'][excess:].copy()\n",
    "            buffer['deltas'] = buffer['deltas'][excess:].copy()\n",
    "            buffer['actions'] = buffer['actions'][excess:].copy()\n",
    "            buffer['rewards'] = buffer['rewards'][excess:].copy()\n",
    "            len_buff = len(buffer['actions'])\n",
    "        rewards = np.array(rewards)\n",
    "        actions = np.array(actions)\n",
    "        nframes = len(frames)\n",
    "\n",
    "        current_frames = np.zeros((nframes, board_dimensions[0], board_dimensions[1],frames_to_net))\n",
    "        current_deltas = np.zeros((nframes, 1, 2, frames_to_net))\n",
    "        \n",
    "        if game >= warmupgames:\n",
    "            prob = np.ones(len_buff)\n",
    "            prob[np.array(buffer['rewards']) > 0] = 5.0\n",
    "            print(prob)\n",
    "            prob /= np.sum(prob)\n",
    "            which_choose = np.random.choice(len_buff,size=nframes,replace=False,p=prob)\n",
    "        \n",
    "            for grab in range(nframes):\n",
    "                rewards[grab] = buffer['rewards'][which_choose[grab]]\n",
    "                actions[grab] = buffer['actions'][which_choose[grab]]\n",
    "                for f in range(frames_to_net):\n",
    "                    if grab-f > 0:\n",
    "                        current_frames[grab,:,:,f] = buffer['frames'][which_choose[grab]-f].copy()\n",
    "                        current_deltas[grab,:,:,f] = buffer['deltas'][which_choose[grab]-f].copy()\n",
    "            \n",
    "            # history = mod.fit(current_deltas, actions,epochs=1,steps_per_epoch=nbatch,verbose=0,sample_weight=rewards,use_multiprocessing=True)\n",
    "            history = mod.fit([current_frames, current_deltas],actions,epochs=1,steps_per_epoch=nbatch,verbose=0,sample_weight=rewards,use_multiprocessing=True)\n",
    "        stop = time.time()\n",
    "        \n",
    "        game += 1\n",
    "        # too many games to train on, hard stop\n",
    "        if game >= tgames:\n",
    "            break\n",
    "        # append consecutive positive scores\n",
    "        if score > 0:\n",
    "            scores.append(score)\n",
    "        elif len(scores) > 0:\n",
    "            scores.pop(0)\n",
    "        else:\n",
    "            pass\n",
    "        t = time.localtime()\n",
    "        out_file.write(str(game)+','+str(score)+','+str(round(stop-start, 4))+','+str(len_buff)+'\\n')\n",
    "        out_file.flush()\n",
    "\n",
    "\n",
    "        mod.save(PATH+f'weights/{model_name}.h5')\n",
    "        \n",
    "        if (game)%100 == 1:\n",
    "          time.sleep(0.01) # allow changes to reflect on drive\n",
    "        sys.stdout.flush()\n",
    "        if len(scores) > tgames:\n",
    "            break"
   ]
  },
  {
   "cell_type": "markdown",
   "id": "F8s4YojE_9vb",
   "metadata": {
    "id": "F8s4YojE_9vb"
   },
   "source": [
    "## Analysis of Training"
   ]
  },
  {
   "cell_type": "code",
   "execution_count": 34,
   "id": "igyDeqP-AAGM",
   "metadata": {
    "colab": {
     "base_uri": "https://localhost:8080/",
     "height": 423
    },
    "id": "igyDeqP-AAGM",
    "outputId": "8d5adc87-a0e6-47a5-cdbb-e3389ae9e69e"
   },
   "outputs": [
    {
     "ename": "KeyError",
     "evalue": "\"['train_time'] not in index\"",
     "output_type": "error",
     "traceback": [
      "\u001b[0;31m---------------------------------------------------------------------------\u001b[0m",
      "\u001b[0;31mKeyError\u001b[0m                                  Traceback (most recent call last)",
      "\u001b[1;32m/Users/rchaks/Code/GitHub/atari/Breakout/breakout_reference.ipynb Cell 31'\u001b[0m in \u001b[0;36m<cell line: 3>\u001b[0;34m()\u001b[0m\n\u001b[1;32m      <a href='vscode-notebook-cell:/Users/rchaks/Code/GitHub/atari/Breakout/breakout_reference.ipynb#ch0000069?line=0'>1</a>\u001b[0m \u001b[39mimport\u001b[39;00m \u001b[39mpandas\u001b[39;00m \u001b[39mas\u001b[39;00m \u001b[39mpd\u001b[39;00m\n\u001b[0;32m----> <a href='vscode-notebook-cell:/Users/rchaks/Code/GitHub/atari/Breakout/breakout_reference.ipynb#ch0000069?line=2'>3</a>\u001b[0m df \u001b[39m=\u001b[39m pd\u001b[39m.\u001b[39;49mread_csv(PATH\u001b[39m+\u001b[39;49m\u001b[39mf\u001b[39;49m\u001b[39m'\u001b[39;49m\u001b[39mscores_\u001b[39;49m\u001b[39m{\u001b[39;49;00mmodel_name\u001b[39m}\u001b[39;49;00m\u001b[39m.csv\u001b[39;49m\u001b[39m'\u001b[39;49m)[[\u001b[39m'\u001b[39;49m\u001b[39mscore\u001b[39;49m\u001b[39m'\u001b[39;49m,\u001b[39m'\u001b[39;49m\u001b[39mtrain_time\u001b[39;49m\u001b[39m'\u001b[39;49m]]\n\u001b[1;32m      <a href='vscode-notebook-cell:/Users/rchaks/Code/GitHub/atari/Breakout/breakout_reference.ipynb#ch0000069?line=3'>4</a>\u001b[0m df\n",
      "File \u001b[0;32m~/opt/miniforge3/envs/m1_tf/lib/python3.9/site-packages/pandas/core/frame.py:3511\u001b[0m, in \u001b[0;36mDataFrame.__getitem__\u001b[0;34m(self, key)\u001b[0m\n\u001b[1;32m   <a href='file:///Users/rchaks/opt/miniforge3/envs/m1_tf/lib/python3.9/site-packages/pandas/core/frame.py?line=3508'>3509</a>\u001b[0m     \u001b[39mif\u001b[39;00m is_iterator(key):\n\u001b[1;32m   <a href='file:///Users/rchaks/opt/miniforge3/envs/m1_tf/lib/python3.9/site-packages/pandas/core/frame.py?line=3509'>3510</a>\u001b[0m         key \u001b[39m=\u001b[39m \u001b[39mlist\u001b[39m(key)\n\u001b[0;32m-> <a href='file:///Users/rchaks/opt/miniforge3/envs/m1_tf/lib/python3.9/site-packages/pandas/core/frame.py?line=3510'>3511</a>\u001b[0m     indexer \u001b[39m=\u001b[39m \u001b[39mself\u001b[39;49m\u001b[39m.\u001b[39;49mcolumns\u001b[39m.\u001b[39;49m_get_indexer_strict(key, \u001b[39m\"\u001b[39;49m\u001b[39mcolumns\u001b[39;49m\u001b[39m\"\u001b[39;49m)[\u001b[39m1\u001b[39m]\n\u001b[1;32m   <a href='file:///Users/rchaks/opt/miniforge3/envs/m1_tf/lib/python3.9/site-packages/pandas/core/frame.py?line=3512'>3513</a>\u001b[0m \u001b[39m# take() does not accept boolean indexers\u001b[39;00m\n\u001b[1;32m   <a href='file:///Users/rchaks/opt/miniforge3/envs/m1_tf/lib/python3.9/site-packages/pandas/core/frame.py?line=3513'>3514</a>\u001b[0m \u001b[39mif\u001b[39;00m \u001b[39mgetattr\u001b[39m(indexer, \u001b[39m\"\u001b[39m\u001b[39mdtype\u001b[39m\u001b[39m\"\u001b[39m, \u001b[39mNone\u001b[39;00m) \u001b[39m==\u001b[39m \u001b[39mbool\u001b[39m:\n",
      "File \u001b[0;32m~/opt/miniforge3/envs/m1_tf/lib/python3.9/site-packages/pandas/core/indexes/base.py:5782\u001b[0m, in \u001b[0;36mIndex._get_indexer_strict\u001b[0;34m(self, key, axis_name)\u001b[0m\n\u001b[1;32m   <a href='file:///Users/rchaks/opt/miniforge3/envs/m1_tf/lib/python3.9/site-packages/pandas/core/indexes/base.py?line=5778'>5779</a>\u001b[0m \u001b[39melse\u001b[39;00m:\n\u001b[1;32m   <a href='file:///Users/rchaks/opt/miniforge3/envs/m1_tf/lib/python3.9/site-packages/pandas/core/indexes/base.py?line=5779'>5780</a>\u001b[0m     keyarr, indexer, new_indexer \u001b[39m=\u001b[39m \u001b[39mself\u001b[39m\u001b[39m.\u001b[39m_reindex_non_unique(keyarr)\n\u001b[0;32m-> <a href='file:///Users/rchaks/opt/miniforge3/envs/m1_tf/lib/python3.9/site-packages/pandas/core/indexes/base.py?line=5781'>5782</a>\u001b[0m \u001b[39mself\u001b[39;49m\u001b[39m.\u001b[39;49m_raise_if_missing(keyarr, indexer, axis_name)\n\u001b[1;32m   <a href='file:///Users/rchaks/opt/miniforge3/envs/m1_tf/lib/python3.9/site-packages/pandas/core/indexes/base.py?line=5783'>5784</a>\u001b[0m keyarr \u001b[39m=\u001b[39m \u001b[39mself\u001b[39m\u001b[39m.\u001b[39mtake(indexer)\n\u001b[1;32m   <a href='file:///Users/rchaks/opt/miniforge3/envs/m1_tf/lib/python3.9/site-packages/pandas/core/indexes/base.py?line=5784'>5785</a>\u001b[0m \u001b[39mif\u001b[39;00m \u001b[39misinstance\u001b[39m(key, Index):\n\u001b[1;32m   <a href='file:///Users/rchaks/opt/miniforge3/envs/m1_tf/lib/python3.9/site-packages/pandas/core/indexes/base.py?line=5785'>5786</a>\u001b[0m     \u001b[39m# GH 42790 - Preserve name from an Index\u001b[39;00m\n",
      "File \u001b[0;32m~/opt/miniforge3/envs/m1_tf/lib/python3.9/site-packages/pandas/core/indexes/base.py:5845\u001b[0m, in \u001b[0;36mIndex._raise_if_missing\u001b[0;34m(self, key, indexer, axis_name)\u001b[0m\n\u001b[1;32m   <a href='file:///Users/rchaks/opt/miniforge3/envs/m1_tf/lib/python3.9/site-packages/pandas/core/indexes/base.py?line=5841'>5842</a>\u001b[0m     \u001b[39mraise\u001b[39;00m \u001b[39mKeyError\u001b[39;00m(\u001b[39mf\u001b[39m\u001b[39m\"\u001b[39m\u001b[39mNone of [\u001b[39m\u001b[39m{\u001b[39;00mkey\u001b[39m}\u001b[39;00m\u001b[39m] are in the [\u001b[39m\u001b[39m{\u001b[39;00maxis_name\u001b[39m}\u001b[39;00m\u001b[39m]\u001b[39m\u001b[39m\"\u001b[39m)\n\u001b[1;32m   <a href='file:///Users/rchaks/opt/miniforge3/envs/m1_tf/lib/python3.9/site-packages/pandas/core/indexes/base.py?line=5843'>5844</a>\u001b[0m not_found \u001b[39m=\u001b[39m \u001b[39mlist\u001b[39m(ensure_index(key)[missing_mask\u001b[39m.\u001b[39mnonzero()[\u001b[39m0\u001b[39m]]\u001b[39m.\u001b[39munique())\n\u001b[0;32m-> <a href='file:///Users/rchaks/opt/miniforge3/envs/m1_tf/lib/python3.9/site-packages/pandas/core/indexes/base.py?line=5844'>5845</a>\u001b[0m \u001b[39mraise\u001b[39;00m \u001b[39mKeyError\u001b[39;00m(\u001b[39mf\u001b[39m\u001b[39m\"\u001b[39m\u001b[39m{\u001b[39;00mnot_found\u001b[39m}\u001b[39;00m\u001b[39m not in index\u001b[39m\u001b[39m\"\u001b[39m)\n",
      "\u001b[0;31mKeyError\u001b[0m: \"['train_time'] not in index\""
     ]
    }
   ],
   "source": [
    "import pandas as pd\n",
    "\n",
    "df = pd.read_csv(PATH+f'scores_{model_name}.csv')[['score','train_time']]\n",
    "df"
   ]
  },
  {
   "cell_type": "code",
   "execution_count": null,
   "id": "MutKKGi5AQuT",
   "metadata": {
    "colab": {
     "base_uri": "https://localhost:8080/",
     "height": 295
    },
    "id": "MutKKGi5AQuT",
    "outputId": "d1769432-fc05-4ae7-c277-d02dd63d5968"
   },
   "outputs": [
    {
     "data": {
      "image/png": "[encoded data removed]",
      "text/plain": [
       "<Figure size 432x288 with 1 Axes>"
      ]
     },
     "metadata": {
      "needs_background": "light"
     },
     "output_type": "display_data"
    }
   ],
   "source": [
    "from matplotlib import pyplot as plt\n",
    "\n",
    "plt.scatter(df['score'], df['train_time'])\n",
    "plt.ylabel('Training Time (s)')\n",
    "plt.xlabel('Score')\n",
    "plt.title('Scores vs Training Time')\n",
    "plt.show()"
   ]
  },
  {
   "cell_type": "code",
   "execution_count": null,
   "id": "chgcM_pqAWAV",
   "metadata": {
    "colab": {
     "base_uri": "https://localhost:8080/",
     "height": 463
    },
    "id": "chgcM_pqAWAV",
    "outputId": "5afc5d6b-e221-47cb-c6ed-b72bc7bc46b7"
   },
   "outputs": [
    {
     "data": {
      "text/plain": [
       "<matplotlib.legend.Legend at 0x3d057dcd0>"
      ]
     },
     "execution_count": 57,
     "metadata": {},
     "output_type": "execute_result"
    },
    {
     "data": {
      "image/png": "[encoded data removed]",
      "text/plain": [
       "<Figure size 1440x432 with 1 Axes>"
      ]
     },
     "metadata": {
      "needs_background": "light"
     },
     "output_type": "display_data"
    }
   ],
   "source": [
    "window = 150\n",
    "min_periods = 20\n",
    "plt.figure(figsize=(20, 6))\n",
    "# df['score'][min_periods:].plot(alpha = 0.3)\n",
    "x = df['score'].rolling(window= window, min_periods = min_periods).mean().dropna()\n",
    "x.plot()\n",
    "line = np.linspace(0, x.shape[0], x.shape[0])\n",
    "# plt.plot(np.log10(line)*25+450, linestyle = 'dotted', linewidth = '0.7', label = 'learning curve', color = 'red')\n",
    "plt.ylabel('Score')\n",
    "plt.xlabel('#games')\n",
    "plt.title('Training Metrics')\n",
    "plt.legend()"
   ]
  },
  {
   "cell_type": "markdown",
   "id": "f14d1900",
   "metadata": {
    "id": "f14d1900"
   },
   "source": [
    "## Visualise the game after training"
   ]
  },
  {
   "cell_type": "markdown",
   "id": "pMqkNFdM9qXU",
   "metadata": {
    "id": "pMqkNFdM9qXU"
   },
   "source": [
    "#### Loading the game"
   ]
  },
  {
   "cell_type": "code",
   "execution_count": null,
   "id": "4b459737",
   "metadata": {
    "colab": {
     "base_uri": "https://localhost:8080/"
    },
    "id": "4b459737",
    "outputId": "5198624f-db8f-4d4b-f09c-4c84c4f82370"
   },
   "outputs": [
    {
     "name": "stdout",
     "output_type": "stream",
     "text": [
      "Model: \"dual_input_model\"\n",
      "__________________________________________________________________________________________________\n",
      " Layer (type)                   Output Shape         Param #     Connected to                     \n",
      "==================================================================================================\n",
      " board_input (InputLayer)       [(None, 36, 80, 4)]  0           []                               \n",
      "                                                                                                  \n",
      " conv1 (Conv2D)                 (None, 17, 39, 32)   2080        ['board_input[0][0]']            \n",
      "                                                                                                  \n",
      " health_input (InputLayer)      [(None, 1, 2, 4)]    0           []                               \n",
      "                                                                                                  \n",
      " conv2 (Conv2D)                 (None, 4, 9, 16)     12816       ['conv1[0][0]']                  \n",
      "                                                                                                  \n",
      " health_conv1 (Conv2D)          (None, 1, 2, 5)      25          ['health_input[0][0]']           \n",
      "                                                                                                  \n",
      " flatten (Flatten)              (None, 576)          0           ['conv2[0][0]']                  \n",
      "                                                                                                  \n",
      " flatten_1 (Flatten)            (None, 10)           0           ['health_conv1[0][0]']           \n",
      "                                                                                                  \n",
      " tf.concat (TFOpLambda)         (None, 586)          0           ['flatten[0][0]',                \n",
      "                                                                  'flatten_1[0][0]']              \n",
      "                                                                                                  \n",
      " dense1 (Dense)                 (None, 256)          150272      ['tf.concat[0][0]']              \n",
      "                                                                                                  \n",
      " output (Dense)                 (None, 5)            1285        ['dense1[0][0]']                 \n",
      "                                                                                                  \n",
      "==================================================================================================\n",
      "Total params: 166,478\n",
      "Trainable params: 166,478\n",
      "Non-trainable params: 0\n",
      "__________________________________________________________________________________________________\n"
     ]
    }
   ],
   "source": [
    "mod2 = tf.keras.models.load_model(PATH+f'weights/{model_name}.h5')\n",
    "mod2.call = tf.function(mod2.call,experimental_relax_shapes=True)\n",
    "\n",
    "mod2.summary()"
   ]
  },
  {
   "cell_type": "code",
   "execution_count": null,
   "id": "aecb0bda",
   "metadata": {
    "colab": {
     "base_uri": "https://localhost:8080/"
    },
    "id": "aecb0bda",
    "outputId": "46109c19-0859-4479-d499-9eae32969f41"
   },
   "outputs": [
    {
     "name": "stdout",
     "output_type": "stream",
     "text": [
      "567.0\n"
     ]
    },
    {
     "data": {
      "image/png": "[encoded data removed]",
      "text/plain": [
       "<Figure size 432x288 with 1 Axes>"
      ]
     },
     "metadata": {},
     "output_type": "display_data"
    }
   ],
   "source": [
    "frame_array, health_array, action_array, reward_array, score = play1game(mod2)\n",
    "\n",
    "plt.imshow(frame_array[-1])\n",
    "print(score)"
   ]
  },
  {
   "cell_type": "markdown",
   "id": "oIm621Q99d4M",
   "metadata": {
    "id": "oIm621Q99d4M"
   },
   "source": [
    "#### Simulations"
   ]
  },
  {
   "cell_type": "code",
   "execution_count": null,
   "id": "943e05a2",
   "metadata": {
    "colab": {
     "base_uri": "https://localhost:8080/"
    },
    "id": "943e05a2",
    "outputId": "3940c618-9f72-413a-db60-c9112408359e"
   },
   "outputs": [
    {
     "name": "stderr",
     "output_type": "stream",
     "text": [
      "100%|██████████| 500/500 [50:22<00:00,  6.05s/it]\n"
     ]
    },
    {
     "data": {
      "text/plain": [
       "526.26"
      ]
     },
     "metadata": {},
     "output_type": "display_data"
    }
   ],
   "source": [
    "ngames = 500\n",
    "scores = np.zeros(ngames)\n",
    "\n",
    "with open(PATH+'game_scores.csv','a') as f:\n",
    "  for game in tqdm(range(ngames)):\n",
    "      frames, health, actions, rewards, score = play1game(mod2, 0)\n",
    "      scores[game] = score\n",
    "      f.write(str(score)+'\\n')\n",
    "      f.flush()\n",
    "np.mean(scores)"
   ]
  },
  {
   "cell_type": "markdown",
   "id": "IUuRLjiX9aEn",
   "metadata": {
    "id": "IUuRLjiX9aEn"
   },
   "source": [
    "#### Visualising model Performance"
   ]
  },
  {
   "cell_type": "code",
   "execution_count": null,
   "id": "sEsrHW1M6Ap1",
   "metadata": {
    "colab": {
     "base_uri": "https://localhost:8080/"
    },
    "id": "sEsrHW1M6Ap1",
    "outputId": "4b7cb961-948c-433e-9bb4-f2013ac42355"
   },
   "outputs": [
    {
     "data": {
      "text/plain": [
       "0      630.0\n",
       "1      336.0\n",
       "2      672.0\n",
       "3      441.0\n",
       "4      483.0\n",
       "       ...  \n",
       "995    420.0\n",
       "996    357.0\n",
       "997    567.0\n",
       "998    651.0\n",
       "999    735.0\n",
       "Name: game, Length: 1000, dtype: float64"
      ]
     },
     "metadata": {},
     "output_type": "display_data"
    }
   ],
   "source": [
    "import pandas as pd\n",
    "\n",
    "scores = pd.read_csv(PATH+'game_scores.csv')['game']\n",
    "scores"
   ]
  },
  {
   "cell_type": "code",
   "execution_count": null,
   "id": "IvwUXTpHH_10",
   "metadata": {
    "colab": {
     "base_uri": "https://localhost:8080/"
    },
    "id": "IvwUXTpHH_10",
    "outputId": "8b5e5b83-2f97-461e-8802-4c686bdb7667"
   },
   "outputs": [
    {
     "name": "stdout",
     "output_type": "stream",
     "text": [
      "Mean: 534.933\n",
      "Mode: 651.0\n",
      "Median: 588.0\n",
      "Std Dev: 137.83\n",
      "Skew: -0.87\n"
     ]
    }
   ],
   "source": [
    "print('Mean:', scores.mean())\n",
    "print('Mode:', scores.mode()[0])\n",
    "print('Median:', scores.median())\n",
    "print('Std Dev:', round(scores.std(),2))\n",
    "print('Skew:', round(scores.skew(),2))"
   ]
  },
  {
   "cell_type": "code",
   "execution_count": null,
   "id": "e2ff2927",
   "metadata": {
    "colab": {
     "base_uri": "https://localhost:8080/",
     "height": 423
    },
    "id": "e2ff2927",
    "outputId": "aeb99a98-1ac3-4d7e-eb0d-85398d249461"
   },
   "outputs": [
    {
     "data": {
      "text/plain": [
       "<matplotlib.legend.Legend at 0x7f718c2d79d0>"
      ]
     },
     "metadata": {},
     "output_type": "display_data"
    },
    {
     "data": {
      "image/png": "[encoded data removed]",
      "text/plain": [
       "<Figure size 720x432 with 1 Axes>"
      ]
     },
     "metadata": {},
     "output_type": "display_data"
    }
   ],
   "source": [
    "import pandas as pd\n",
    "plt.figure(figsize = (10,6))\n",
    "plt.hist(scores, bins = 20, density = True)\n",
    "plt.axvline(x=scores.mean(), linewidth = 0.7, linestyle = 'dotted', color = 'red', label = f'E(Score) = {np.round(scores.mean(),2)}')\n",
    "plt.xlabel('Game Score')\n",
    "plt.ylabel('Probability')\n",
    "plt.title('Probability distribution of scores (P(scores))')\n",
    "plt.legend()"
   ]
  },
  {
   "cell_type": "markdown",
   "id": "GqrypuxQ9Vmk",
   "metadata": {
    "id": "GqrypuxQ9Vmk"
   },
   "source": [
    "***\n"
   ]
  }
 ],
 "metadata": {
  "accelerator": "GPU",
  "colab": {
   "collapsed_sections": [],
   "name": "Opti_Project_3_Lorraine_Zhou.ipynb",
   "provenance": []
  },
  "kernelspec": {
   "display_name": "Python 3 (ipykernel)",
   "language": "python",
   "name": "python3"
  },
  "language_info": {
   "codemirror_mode": {
    "name": "ipython",
    "version": 3
   },
   "file_extension": ".py",
   "mimetype": "text/x-python",
   "name": "python",
   "nbconvert_exporter": "python",
   "pygments_lexer": "ipython3",
   "version": "3.9.12"
  }
 },
 "nbformat": 4,
 "nbformat_minor": 1
}
